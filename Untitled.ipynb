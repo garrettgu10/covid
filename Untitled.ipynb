{
 "cells": [
  {
   "cell_type": "code",
   "execution_count": 2,
   "metadata": {},
   "outputs": [],
   "source": [
    "import geopandas"
   ]
  },
  {
   "cell_type": "code",
   "execution_count": 3,
   "metadata": {},
   "outputs": [],
   "source": [
    "import pandas as pd\n",
    "import io\n",
    "import requests\n",
    "csv = requests.get('https://docs.google.com/spreadsheets/d/e/2PACX-1vSAJOtYyUGNZOX-ZQsy1umnfxz-e9VDfXckYZX9v_Ki5Y2B2b5ykonyptunRdy1ijfdMTCTRfpPq0Ek/pub?gid=1355027789&single=true&output=csv').content\n",
    "covid = pd.read_csv(io.StringIO(csv.decode('utf-8')))"
   ]
  },
  {
   "cell_type": "code",
   "execution_count": 4,
   "metadata": {},
   "outputs": [],
   "source": [
    "gdf = geopandas.read_file(\"us-states.json\")\n",
    "gdf_with_covid = pd.merge(gdf, covid, right_on=\"STATE\", left_on=\"name\")"
   ]
  },
  {
   "cell_type": "code",
   "execution_count": 5,
   "metadata": {},
   "outputs": [
    {
     "data": {
      "text/plain": [
       "Index(['id', 'name', 'density', 'geometry', 'STATE', 'Population (M)',\n",
       "       '1/1/21', '1/8/21', '1/15/21', '1/22/21', '1/29/21', '2/5/21',\n",
       "       '2/12/21', '2/19/21', '2/26/21', '3/5/21', '3/12/21', '3/19/21',\n",
       "       'Unnamed: 14', 'Unnamed: 15', 'Unnamed: 16', 'Unnamed: 17',\n",
       "       'Unnamed: 18', 'Unnamed: 19', 'Unnamed: 20', 'Unnamed: 21',\n",
       "       'Unnamed: 22', 'Unnamed: 23', 'Unnamed: 24', 'Unnamed: 25'],\n",
       "      dtype='object')"
      ]
     },
     "execution_count": 5,
     "metadata": {},
     "output_type": "execute_result"
    }
   ],
   "source": [
    "gdf_with_covid.columns"
   ]
  },
  {
   "cell_type": "code",
   "execution_count": 21,
   "metadata": {},
   "outputs": [],
   "source": [
    "gdf_with_covid['coords'] = gdf_with_covid['geometry'].apply(lambda x: x.representative_point().coords[:])\n",
    "gdf_with_covid['coords'] = [coords[0] for coords in gdf_with_covid['coords']]"
   ]
  },
  {
   "cell_type": "code",
   "execution_count": 28,
   "metadata": {},
   "outputs": [
    {
     "data": {
      "application/vnd.jupyter.widget-view+json": {
       "model_id": "7c7f92237aa848d7a05123af4ea7d555",
       "version_major": 2,
       "version_minor": 0
      },
      "text/plain": [
       "interactive(children=(IntSlider(value=0, description='week', max=20), Output()), _dom_classes=('widget-interac…"
      ]
     },
     "metadata": {},
     "output_type": "display_data"
    },
    {
     "data": {
      "text/plain": [
       "<function __main__.plot(week)>"
      ]
     },
     "execution_count": 28,
     "metadata": {},
     "output_type": "execute_result"
    }
   ],
   "source": [
    "from ipywidgets import interact, IntSlider\n",
    "import ipywidgets as widgets\n",
    "\n",
    "def plot(week):\n",
    "    column = gdf_with_covid.columns[6 + week]\n",
    "    print(\"Average Daily COVID-19 Cases per Million - Week of \" + column)\n",
    "    plot = gdf_with_covid.plot(column, legend=True, vmin=0, vmax=1500, figsize=(20,10), cmap='OrRd')\n",
    "    \n",
    "    for idx, row in gdf_with_covid.iterrows():\n",
    "        plot.annotate(s=round(row[column], 2), xy=row['coords'], horizontalalignment='center')\n",
    "    \n",
    "    return plot\n",
    "\n",
    "interact(plot, week=IntSlider(min=0, max=20))"
   ]
  },
  {
   "cell_type": "code",
   "execution_count": 35,
   "metadata": {},
   "outputs": [
    {
     "data": {
      "application/vnd.jupyter.widget-view+json": {
       "model_id": "282b5c0c9c144323a57fd664d1443b00",
       "version_major": 2,
       "version_minor": 0
      },
      "text/plain": [
       "interactive(children=(IntSlider(value=0, description='week', max=20), Output()), _dom_classes=('widget-interac…"
      ]
     },
     "metadata": {},
     "output_type": "display_data"
    },
    {
     "data": {
      "text/plain": [
       "<function __main__.plot(week)>"
      ]
     },
     "execution_count": 35,
     "metadata": {},
     "output_type": "execute_result"
    }
   ],
   "source": [
    "from ipywidgets import interact, IntSlider\n",
    "import ipywidgets as widgets\n",
    "\n",
    "def plot(week):\n",
    "    column = covid.columns[2 + week]\n",
    "    print(\"Average Daily COVID-19 Cases per Million - Week of \" + column)\n",
    "    plot = covid.plot(x=\"STATE\", y=column, kind='bar', ylim=(0, 1600))\n",
    "    return plot\n",
    "\n",
    "interact(plot, week=IntSlider(min=0, max=20))"
   ]
  },
  {
   "cell_type": "code",
   "execution_count": 30,
   "metadata": {},
   "outputs": [
    {
     "data": {
      "text/plain": [
       "Index(['STATE', 'Population (M)', '1/1/21', '1/8/21', '1/15/21', '1/22/21',\n",
       "       '1/29/21', '2/5/21', '2/12/21', '2/19/21', '2/26/21', '3/5/21',\n",
       "       '3/12/21', '3/19/21', 'Unnamed: 14', 'Unnamed: 15', 'Unnamed: 16',\n",
       "       'Unnamed: 17', 'Unnamed: 18', 'Unnamed: 19', 'Unnamed: 20',\n",
       "       'Unnamed: 21', 'Unnamed: 22', 'Unnamed: 23', 'Unnamed: 24',\n",
       "       'Unnamed: 25'],\n",
       "      dtype='object')"
      ]
     },
     "execution_count": 30,
     "metadata": {},
     "output_type": "execute_result"
    }
   ],
   "source": [
    "covid.columns"
   ]
  }
 ],
 "metadata": {
  "kernelspec": {
   "display_name": "Python 3",
   "language": "python",
   "name": "python3"
  },
  "language_info": {
   "codemirror_mode": {
    "name": "ipython",
    "version": 3
   },
   "file_extension": ".py",
   "mimetype": "text/x-python",
   "name": "python",
   "nbconvert_exporter": "python",
   "pygments_lexer": "ipython3",
   "version": "3.8.2"
  }
 },
 "nbformat": 4,
 "nbformat_minor": 4
}
